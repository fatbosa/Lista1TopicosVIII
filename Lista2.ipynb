{
  "nbformat": 4,
  "nbformat_minor": 0,
  "metadata": {
    "colab": {
      "name": "Lista2.ipynb",
      "provenance": []
    },
    "kernelspec": {
      "name": "python3",
      "display_name": "Python 3"
    }
  },
  "cells": [
    {
      "cell_type": "code",
      "metadata": {
        "id": "UILAaE6djgwf",
        "outputId": "d316bb47-6eee-4b23-debb-b1a69fe80676",
        "colab": {
          "base_uri": "https://localhost:8080/",
          "height": 51
        }
      },
      "source": [
        "import numpy as np\n",
        "import pandas as pd\n",
        "import statistics\n",
        "import pylab\n",
        "import scipy.stats\n",
        "from patsy import dmatrices\n",
        "import statsmodels.api as sm  \n",
        "from statsmodels.stats.outliers_influence import variance_inflation_factor\n",
        "from statsmodels.tools.tools import add_constant\n",
        "import seaborn as sn\n",
        "import matplotlib.pyplot as plt\n",
        "from sklearn.decomposition import PCA\n",
        "from sklearn.datasets import load_digits\n",
        "from sklearn.manifold import MDS\n",
        "def normalize(x):\n",
        "    return [(x[n] - min(x)) / (max(x) - \n",
        "           min(x)) for n in range(len(x))]\n",
        "\n",
        "\n",
        "\n",
        "\n",
        "print(\"Alunos: Gabriel Barbosa Menezes Dantas e Lucas Matheus Carvalho de Assis\")\n",
        "print(\"Este bloco inicializa as bibliotecas utilizadas na atividade.\")"
      ],
      "execution_count": 83,
      "outputs": [
        {
          "output_type": "stream",
          "text": [
            "Alunos: Gabriel Barbosa Menezes Dantas e Lucas Matheus Carvalho de Assis\n",
            "Este bloco inicializa as bibliotecas utilizadas na atividade.\n"
          ],
          "name": "stdout"
        }
      ]
    },
    {
      "cell_type": "code",
      "metadata": {
        "id": "2zxz_mIkyE6k",
        "outputId": "646e251a-f8d8-4f7f-db6d-0d351414125b",
        "colab": {
          "base_uri": "https://localhost:8080/",
          "height": 34
        }
      },
      "source": [
        "print(\"Inicializando os valores do documento fornecido:\")\n",
        "V1 = np.array([6.3,5.8,5.1,4.9,4.7,4.6,5,6.4,6.9,5.5,6.5,5.4,4.6,5,6.8,6.7,6.7,6.3,6.5,6.2,5.9,4.4,4.9,5.4,4.8,4.8,4.3,5.8,5.7,5.4,5.1,7.4,7.9,6.4,6.3,6.1,7.7,6.3,6.4,5.7,5.1,5.4,5.1,4.6,5.1,4.8,5,5.2,5,5.9,5.6,5.9,6.1,5,5.2,5.2,4.7,4.8,5.6,6.7,5.6,5.8,6.4,6.8,5.7,5.8,6.2,5.4,5.2,5.5,4.9,6.1,6.4,6.6,6.8,6.7,6,5,5.5,4.9,4.4,5.4,6,6.7,6.3,5.6,5.5,5.5,6.1,5.1,5,4.5,4.4,5,5.1,4.8,6,6.1,5.1,6.7,7.2,6.5,6.4,6.5,7.7,4.6,5.3,5.7,6.3,4.9,7.7,6,6.9,5.6,7.7,6.3,6.7,6.6,6.3,5.7,5.5,5.5,5.8,6,5.8,5,7.1,6.3,6.5,7.6,5.6,5.7,5.7,7.3,6.2,5.1,5.7,4.9,7.2,6.2,6.1,6.4,7.2,6,6.9,6.7,6.9,5.8,5,7])\n",
        "V2 = np.array([3.3,2.7,3.5,3,3.2,3.1,3.6,3.2,3.1,2.3,2.8,3.9,3.4,3.4,3.2,3.3,3,2.5,3,3.4,3,2.9,3.1,3.7,3.4,3,3,4,4.4,3.9,3.5,2.8,3.8,2.8,2.8,2.6,3,3.4,3.1,3.8,3.8,3.4,3.7,3.6,3.3,3.4,3,2.7,2,3,2.5,3.2,2.8,3.4,3.5,3.4,3.2,3.1,2.9,3.1,3,2.7,2.7,3,2.5,2.8,2.2,3.4,4.1,4.2,3.1,2.8,2.9,3,2.8,3,2.9,3.2,3.5,3.6,3,3,3.4,3.1,2.3,3,2.5,2.6,3,3.4,3.5,2.3,3.2,3.5,3.8,3,2.2,2.9,3.8,2.5,3.6,3.2,3.2,3,3.8,3.2,3.7,2.8,3.3,2.4,2.6,2.2,3.2,2.8,2.8,2.7,3.3,2.9,2.5,2.6,2.4,2.4,2.7,2.7,2.6,2.3,3,2.9,3,3,2.7,3,2.9,2.9,2.9,2.5,2.8,2.5,3.2,2.8,3,2.8,3,3,3.1,3.1,3.1,2.7,3.3,3.2])\n",
        "V3 = np.array([7.65,7.55,4.95,5.3,4.6,4.55,4.6,8,9.15,7.55,8.8,4.95,4.1,4.9,8.8,8.45,8.9,8.85,8.5,7.3,7.3,4.45,5.15,5.25,4.5,5.1,4.1,5.6,4.8,4.95,4.95,10.6,10.1,8.6,8.4,8.3,10.9,7.5,8.15,5.7,4.5,5.7,4.65,3.8,5.25,4.5,5.5,6.35,7,7.3,7.45,7,8,4.9,5.15,5.3,4.6,4.95,6.85,8.75,6.7,7.55,8.75,9.1,7.65,7.4,9.1,5.7,4.25,4.7,5.15,8,8.45,8.7,9.4,8.9,7.65,5.2,5.75,4.4,4.3,6.3,6.9,8.75,9.15,6.7,7.25,7.1,7.7,5.1,4.75,5.55,4,4.75,4.5,5.1,8.7,7.85,4.5,9.65,9,8.2,8,8.5,9.7,4.4,5.05,7.2,7.65,6.2,11.5,8.7,9,7,11.2,8.55,8.45,8.85,8.85,7.5,7.4,7.4,7.55,7.95,7.7,6.55,9.7,8.25,8.5,10.7,7.15,6.9,7.05,10.25,8.05,6.45,7.2,6.05,9.6,8.2,7.7,8.6,9.9,7.5,9.15,8.75,9.15,7.55,5.05,9.2])\n",
        "V4 = np.array([6,5.1,1.4,1.4,1.3,1.5,1.4,4.5,4.9,4,4.6,1.7,1.4,1.5,5.9,5.7,5.2,5,5.2,5.4,5.1,1.4,1.5,1.5,1.6,1.4,1.1,1.2,1.5,1.3,1.4,6.1,6.4,5.6,5.1,5.6,6.1,5.6,5.5,1.7,1.5,1.7,1.5,1,1.7,1.9,1.6,3.9,3.5,4.2,3.9,4.8,4,1.6,1.5,1.4,1.6,1.6,3.6,4.4,4.5,4.1,5.3,5.5,5,5.1,4.5,1.5,1.5,1.4,1.5,4.7,4.3,4.4,4.8,5,4.5,1.2,1.3,1.4,1.3,4.5,4.5,4.7,4.4,4.1,4,4.4,4.6,1.5,1.3,1.3,1.3,1.6,1.9,1.4,4,4.7,1.6,5.8,6.1,5.1,5.3,5.5,6.7,1.4,1.5,4.5,4.7,3.3,6.9,5,5.7,4.9,6.7,4.9,5.7,4.6,4.9,3.5,3.8,3.7,3.9,5.1,4,3.3,5.9,5.6,5.8,6.6,4.2,4.2,4.2,6.3,4.3,3,4.1,4.5,6,4.8,4.9,5.6,5.8,4.8,5.4,5.6,5.1,5.1,1.4,4.7])\n",
        "V5 = np.array([36,26.01,1.96,1.96,1.69,2.25,1.96,20.25,24.01,16,21.16,2.89,1.96,2.25,34.81,32.49,27.04,25,27.04,29.16,26.01,1.96,2.25,2.25,2.56,1.96,1.21,1.44,2.25,1.69,1.96,37.21,40.96,31.36,26.01,31.36,37.21,31.36,30.25,2.89,2.25,2.89,2.25,1,2.89,3.61,2.56,15.21,12.25,17.64,15.21,23.04,16,2.56,2.25,1.96,2.56,2.56,12.96,19.36,20.25,16.81,28.09,30.25,25,26.01,20.25,2.25,2.25,1.96,2.25,22.09,18.49,19.36,23.04,25,20.25,1.44,1.69,1.96,1.69,20.25,20.25,22.09,19.36,16.81,16,19.36,21.16,2.25,1.69,1.69,1.69,2.56,3.61,1.96,16,22.09,2.56,33.64,37.21,26.01,28.09,30.25,44.89,1.96,2.25,20.25,22.09,10.89,47.61,25,32.49,24.01,44.89,24.01,32.49,21.16,24.01,12.25,14.44,13.69,15.21,26.01,16,10.89,34.81,31.36,33.64,43.56,17.64,17.64,17.64,39.69,18.49,9,16.81,20.25,36,23.04,24.01,31.36,33.64,23.04,29.16,31.36,26.01,26.01,1.96,22.09])\n",
        "V6 = np.array([2.5,1.9,0.2,0.2,0.2,0.2,0.2,1.5,1.5,1.3,1.5,0.4,0.3,0.2,2.3,2.5,2.3,1.9,2,2.3,1.8,0.2,0.1,0.2,0.2,0.1,0.1,0.2,0.4,0.4,0.3,1.9,2,2.2,1.5,1.4,2.3,2.4,1.8,0.3,0.3,0.2,0.4,0.2,0.5,0.2,0.2,1.4,1,1.5,1.1,1.8,1.3,0.4,0.2,0.2,0.2,0.2,1.3,1.4,1.5,1,1.9,2.1,2,2.4,1.5,0.4,0.1,0.2,0.2,1.2,1.3,1.4,1.4,1.7,1.5,0.2,0.2,0.1,0.2,1.5,1.6,1.5,1.3,1.3,1.3,1.2,1.4,0.2,0.3,0.3,0.2,0.6,0.4,0.3,1,1.4,0.2,1.8,2.5,2,2.3,1.8,2.2,0.2,0.2,1.3,1.6,1,2.3,1.5,2.3,2,2,1.8,2.1,1.3,1.5,1,1.1,1,1.2,1.6,1.2,1,2.1,1.8,2.2,2.1,1.3,1.2,1.3,1.8,1.3,1.1,1.3,1.7,1.8,1.8,1.8,2.1,1.6,1.8,2.1,2.4,2.3,1.9,0.2,1.4])\n",
        "classes = np.array([3,3,1,1,1,1,1,2,2,2,2,1,1,1,3,3,3,3,3,3,3,1,1,1,1,1,1,1,1,1,1,3,3,3,3,3,3,3,3,1,1,1,1,1,1,1,1,2,2,2,2,2,2,1,1,1,1,1,2,2,2,2,3,3,3,3,2,1,1,1,1,2,2,2,2,2,2,1,1,1,1,2,2,2,2,2,2,2,2,1,1,1,1,1,1,1,2,2,1,3,3,3,3,3,3,1,1,2,2,2,3,3,3,3,3,3,3,2,2,2,2,2,2,2,2,2,3,3,3,3,2,2,2,3,2,2,2,3,3,3,3,3,3,3,3,3,3,3,1,2])"
      ],
      "execution_count": 58,
      "outputs": [
        {
          "output_type": "stream",
          "text": [
            "Inicializando os valores do documento fornecido:\n"
          ],
          "name": "stdout"
        }
      ]
    },
    {
      "cell_type": "markdown",
      "metadata": {
        "id": "Pe8L_YCDsgg8"
      },
      "source": [
        "https://colab.research.google.com/drive/1Y4fjPMOfh3WWqLzw5cv4kikrp77iYKYl#scrollTo=qdkftIWUFDqu\n",
        "\n",
        "link para a questão 2 kkk ainda apanhando\n"
      ]
    },
    {
      "cell_type": "code",
      "metadata": {
        "id": "4Dukso1Qk2uB",
        "outputId": "b8c6613c-e28f-47f9-f0f8-89949d37c9da",
        "colab": {
          "base_uri": "https://localhost:8080/",
          "height": 221
        }
      },
      "source": [
        "print(\"Questão 1, item a): Verificando a existência de colinearidade\")\n",
        "print('Os valores infinitos da multicolinearidade de V1, V2 e V3 implicam uma correlação perfeita.')\n",
        "\n",
        "df = pd.DataFrame(\n",
        "    {'V1' : [6.3,5.8,5.1,4.9,4.7,4.6,5,6.4,6.9,5.5,6.5,5.4,4.6,5,6.8,6.7,6.7,6.3,6.5,6.2,5.9,4.4,4.9,5.4,4.8,4.8,4.3,5.8,5.7,5.4,5.1,7.4,7.9,6.4,6.3,6.1,7.7,6.3,6.4,5.7,5.1,5.4,5.1,4.6,5.1,4.8,5,5.2,5,5.9,5.6,5.9,6.1,5,5.2,5.2,4.7,4.8,5.6,6.7,5.6,5.8,6.4,6.8,5.7,5.8,6.2,5.4,5.2,5.5,4.9,6.1,6.4,6.6,6.8,6.7,6,5,5.5,4.9,4.4,5.4,6,6.7,6.3,5.6,5.5,5.5,6.1,5.1,5,4.5,4.4,5,5.1,4.8,6,6.1,5.1,6.7,7.2,6.5,6.4,6.5,7.7,4.6,5.3,5.7,6.3,4.9,7.7,6,6.9,5.6,7.7,6.3,6.7,6.6,6.3,5.7,5.5,5.5,5.8,6,5.8,5,7.1,6.3,6.5,7.6,5.6,5.7,5.7,7.3,6.2,5.1,5.7,4.9,7.2,6.2,6.1,6.4,7.2,6,6.9,6.7,6.9,5.8,5,7],\n",
        "'V2' : [3.3,2.7,3.5,3,3.2,3.1,3.6,3.2,3.1,2.3,2.8,3.9,3.4,3.4,3.2,3.3,3,2.5,3,3.4,3,2.9,3.1,3.7,3.4,3,3,4,4.4,3.9,3.5,2.8,3.8,2.8,2.8,2.6,3,3.4,3.1,3.8,3.8,3.4,3.7,3.6,3.3,3.4,3,2.7,2,3,2.5,3.2,2.8,3.4,3.5,3.4,3.2,3.1,2.9,3.1,3,2.7,2.7,3,2.5,2.8,2.2,3.4,4.1,4.2,3.1,2.8,2.9,3,2.8,3,2.9,3.2,3.5,3.6,3,3,3.4,3.1,2.3,3,2.5,2.6,3,3.4,3.5,2.3,3.2,3.5,3.8,3,2.2,2.9,3.8,2.5,3.6,3.2,3.2,3,3.8,3.2,3.7,2.8,3.3,2.4,2.6,2.2,3.2,2.8,2.8,2.7,3.3,2.9,2.5,2.6,2.4,2.4,2.7,2.7,2.6,2.3,3,2.9,3,3,2.7,3,2.9,2.9,2.9,2.5,2.8,2.5,3.2,2.8,3,2.8,3,3,3.1,3.1,3.1,2.7,3.3,3.2],\n",
        "'V3' : [7.65,7.55,4.95,5.3,4.6,4.55,4.6,8,9.15,7.55,8.8,4.95,4.1,4.9,8.8,8.45,8.9,8.85,8.5,7.3,7.3,4.45,5.15,5.25,4.5,5.1,4.1,5.6,4.8,4.95,4.95,10.6,10.1,8.6,8.4,8.3,10.9,7.5,8.15,5.7,4.5,5.7,4.65,3.8,5.25,4.5,5.5,6.35,7,7.3,7.45,7,8,4.9,5.15,5.3,4.6,4.95,6.85,8.75,6.7,7.55,8.75,9.1,7.65,7.4,9.1,5.7,4.25,4.7,5.15,8,8.45,8.7,9.4,8.9,7.65,5.2,5.75,4.4,4.3,6.3,6.9,8.75,9.15,6.7,7.25,7.1,7.7,5.1,4.75,5.55,4,4.75,4.5,5.1,8.7,7.85,4.5,9.65,9,8.2,8,8.5,9.7,4.4,5.05,7.2,7.65,6.2,11.5,8.7,9,7,11.2,8.55,8.45,8.85,8.85,7.5,7.4,7.4,7.55,7.95,7.7,6.55,9.7,8.25,8.5,10.7,7.15,6.9,7.05,10.25,8.05,6.45,7.2,6.05,9.6,8.2,7.7,8.6,9.9,7.5,9.15,8.75,9.15,7.55,5.05,9.2],\n",
        "'V4' : [6,5.1,1.4,1.4,1.3,1.5,1.4,4.5,4.9,4,4.6,1.7,1.4,1.5,5.9,5.7,5.2,5,5.2,5.4,5.1,1.4,1.5,1.5,1.6,1.4,1.1,1.2,1.5,1.3,1.4,6.1,6.4,5.6,5.1,5.6,6.1,5.6,5.5,1.7,1.5,1.7,1.5,1,1.7,1.9,1.6,3.9,3.5,4.2,3.9,4.8,4,1.6,1.5,1.4,1.6,1.6,3.6,4.4,4.5,4.1,5.3,5.5,5,5.1,4.5,1.5,1.5,1.4,1.5,4.7,4.3,4.4,4.8,5,4.5,1.2,1.3,1.4,1.3,4.5,4.5,4.7,4.4,4.1,4,4.4,4.6,1.5,1.3,1.3,1.3,1.6,1.9,1.4,4,4.7,1.6,5.8,6.1,5.1,5.3,5.5,6.7,1.4,1.5,4.5,4.7,3.3,6.9,5,5.7,4.9,6.7,4.9,5.7,4.6,4.9,3.5,3.8,3.7,3.9,5.1,4,3.3,5.9,5.6,5.8,6.6,4.2,4.2,4.2,6.3,4.3,3,4.1,4.5,6,4.8,4.9,5.6,5.8,4.8,5.4,5.6,5.1,5.1,1.4,4.7],\n",
        "'V5' : [36,26.01,1.96,1.96,1.69,2.25,1.96,20.25,24.01,16,21.16,2.89,1.96,2.25,34.81,32.49,27.04,25,27.04,29.16,26.01,1.96,2.25,2.25,2.56,1.96,1.21,1.44,2.25,1.69,1.96,37.21,40.96,31.36,26.01,31.36,37.21,31.36,30.25,2.89,2.25,2.89,2.25,1,2.89,3.61,2.56,15.21,12.25,17.64,15.21,23.04,16,2.56,2.25,1.96,2.56,2.56,12.96,19.36,20.25,16.81,28.09,30.25,25,26.01,20.25,2.25,2.25,1.96,2.25,22.09,18.49,19.36,23.04,25,20.25,1.44,1.69,1.96,1.69,20.25,20.25,22.09,19.36,16.81,16,19.36,21.16,2.25,1.69,1.69,1.69,2.56,3.61,1.96,16,22.09,2.56,33.64,37.21,26.01,28.09,30.25,44.89,1.96,2.25,20.25,22.09,10.89,47.61,25,32.49,24.01,44.89,24.01,32.49,21.16,24.01,12.25,14.44,13.69,15.21,26.01,16,10.89,34.81,31.36,33.64,43.56,17.64,17.64,17.64,39.69,18.49,9,16.81,20.25,36,23.04,24.01,31.36,33.64,23.04,29.16,31.36,26.01,26.01,1.96,22.09],\n",
        "'V6' : [2.5,1.9,0.2,0.2,0.2,0.2,0.2,1.5,1.5,1.3,1.5,0.4,0.3,0.2,2.3,2.5,2.3,1.9,2,2.3,1.8,0.2,0.1,0.2,0.2,0.1,0.1,0.2,0.4,0.4,0.3,1.9,2,2.2,1.5,1.4,2.3,2.4,1.8,0.3,0.3,0.2,0.4,0.2,0.5,0.2,0.2,1.4,1,1.5,1.1,1.8,1.3,0.4,0.2,0.2,0.2,0.2,1.3,1.4,1.5,1,1.9,2.1,2,2.4,1.5,0.4,0.1,0.2,0.2,1.2,1.3,1.4,1.4,1.7,1.5,0.2,0.2,0.1,0.2,1.5,1.6,1.5,1.3,1.3,1.3,1.2,1.4,0.2,0.3,0.3,0.2,0.6,0.4,0.3,1,1.4,0.2,1.8,2.5,2,2.3,1.8,2.2,0.2,0.2,1.3,1.6,1,2.3,1.5,2.3,2,2,1.8,2.1,1.3,1.5,1,1.1,1,1.2,1.6,1.2,1,2.1,1.8,2.2,2.1,1.3,1.2,1.3,1.8,1.3,1.1,1.3,1.7,1.8,1.8,1.8,2.1,1.6,1.8,2.1,2.4,2.3,1.9,0.2,1.4],\n",
        "}\n",
        ")\n",
        "\n",
        "X = add_constant(df)\n",
        "pd.Series([variance_inflation_factor(X.values, i) \n",
        "               for i in range(X.shape[1])], \n",
        "              index=X.columns)"
      ],
      "execution_count": 4,
      "outputs": [
        {
          "output_type": "stream",
          "text": [
            "Questão 1, item a): Verificando a existência de colinearidade\n",
            "Os valores infinitos da multicolinearidade de V1, V2 e V3 implicam uma correlação perfeita.\n"
          ],
          "name": "stdout"
        },
        {
          "output_type": "stream",
          "text": [
            "/usr/local/lib/python3.6/dist-packages/statsmodels/stats/outliers_influence.py:185: RuntimeWarning: divide by zero encountered in double_scalars\n",
            "  vif = 1. / (1. - r_squared_i)\n"
          ],
          "name": "stderr"
        },
        {
          "output_type": "execute_result",
          "data": {
            "text/plain": [
              "const    269.922482\n",
              "V1              inf\n",
              "V2              inf\n",
              "V3              inf\n",
              "V4        73.719682\n",
              "V5        43.912484\n",
              "V6        16.166227\n",
              "dtype: float64"
            ]
          },
          "metadata": {
            "tags": []
          },
          "execution_count": 4
        }
      ]
    },
    {
      "cell_type": "code",
      "metadata": {
        "id": "eFYxQy-fr_oC",
        "outputId": "b498c8b2-248c-475d-98ae-cbea691380d9",
        "colab": {
          "base_uri": "https://localhost:8080/",
          "height": 366
        }
      },
      "source": [
        "print(\"Questão 1, item a): Verificando a distribuição e escala de V1\")\n",
        "print(\"Desvio Padrão de V1, a escala: \",np.std(V1))\n",
        "print(\"Histograma de V1, a distribuição:\")\n",
        "histV1 = pd.DataFrame({'V1':V1})\n",
        "histV1.hist()"
      ],
      "execution_count": 5,
      "outputs": [
        {
          "output_type": "stream",
          "text": [
            "Questão 1, item a): Verificando a distribuição e escala de V1\n",
            "Desvio Padrão de V1, a escala:  0.8253012917851409\n",
            "Histograma de V1, a distribuição:\n"
          ],
          "name": "stdout"
        },
        {
          "output_type": "execute_result",
          "data": {
            "text/plain": [
              "array([[<matplotlib.axes._subplots.AxesSubplot object at 0x7fbef32cd390>]],\n",
              "      dtype=object)"
            ]
          },
          "metadata": {
            "tags": []
          },
          "execution_count": 5
        },
        {
          "output_type": "display_data",
          "data": {
            "image/png": "[encoded data removed]",
            "text/plain": [
              "<Figure size 432x288 with 1 Axes>"
            ]
          },
          "metadata": {
            "tags": [],
            "needs_background": "light"
          }
        }
      ]
    },
    {
      "cell_type": "code",
      "metadata": {
        "id": "O1NpaUmtwDwX",
        "outputId": "6bf4c9c3-1561-4a4b-9e41-e20e6e2951b8",
        "colab": {
          "base_uri": "https://localhost:8080/",
          "height": 366
        }
      },
      "source": [
        "print(\"Questão 1, item a): Verificando a distribuição e escala de V2\")\n",
        "print(\"Desvio Padrão de V2, a escala: \",np.std(V2))\n",
        "print(\"Histograma de V2, a distribuição:\")\n",
        "histV2 = pd.DataFrame({'V2':V2})\n",
        "histV2.hist()"
      ],
      "execution_count": 6,
      "outputs": [
        {
          "output_type": "stream",
          "text": [
            "Questão 1, item a): Verificando a distribuição e escala de V2\n",
            "Desvio Padrão de V2, a escala:  0.4344109677354946\n",
            "Histograma de V2, a distribuição:\n"
          ],
          "name": "stdout"
        },
        {
          "output_type": "execute_result",
          "data": {
            "text/plain": [
              "array([[<matplotlib.axes._subplots.AxesSubplot object at 0x7fbef2a3d518>]],\n",
              "      dtype=object)"
            ]
          },
          "metadata": {
            "tags": []
          },
          "execution_count": 6
        },
        {
          "output_type": "display_data",
          "data": {
            "image/png": "[encoded data removed]",
            "text/plain": [
              "<Figure size 432x288 with 1 Axes>"
            ]
          },
          "metadata": {
            "tags": [],
            "needs_background": "light"
          }
        }
      ]
    },
    {
      "cell_type": "code",
      "metadata": {
        "id": "F_YGM1J3wEzC",
        "outputId": "84b0552b-3372-4615-a85c-7e1e3ff2dfab",
        "colab": {
          "base_uri": "https://localhost:8080/",
          "height": 366
        }
      },
      "source": [
        "print(\"Questão 1, item a): Verificando a distribuição e escala de V3\")\n",
        "print(\"Desvio Padrão de V3, a escala: \",np.std(V3))\n",
        "print(\"Histograma de V3, a distribuição:\")\n",
        "histV3 = pd.DataFrame({'V3':V3})\n",
        "histV3.hist()"
      ],
      "execution_count": 7,
      "outputs": [
        {
          "output_type": "stream",
          "text": [
            "Questão 1, item a): Verificando a distribuição e escala de V3\n",
            "Desvio Padrão de V3, a escala:  1.8444510173912332\n",
            "Histograma de V3, a distribuição:\n"
          ],
          "name": "stdout"
        },
        {
          "output_type": "execute_result",
          "data": {
            "text/plain": [
              "array([[<matplotlib.axes._subplots.AxesSubplot object at 0x7fbef2503588>]],\n",
              "      dtype=object)"
            ]
          },
          "metadata": {
            "tags": []
          },
          "execution_count": 7
        },
        {
          "output_type": "display_data",
          "data": {
            "image/png": "[encoded data removed]",
            "text/plain": [
              "<Figure size 432x288 with 1 Axes>"
            ]
          },
          "metadata": {
            "tags": [],
            "needs_background": "light"
          }
        }
      ]
    },
    {
      "cell_type": "code",
      "metadata": {
        "id": "097V9hklwFXs",
        "outputId": "0b971703-5bff-41a2-b714-c90cbee476a3",
        "colab": {
          "base_uri": "https://localhost:8080/",
          "height": 366
        }
      },
      "source": [
        "print(\"Questão 1, item a): Verificando a distribuição e escala de V4\")\n",
        "print(\"Desvio Padrão de V4, a escala: \",np.std(V4))\n",
        "print(\"Histograma de V4, a distribuição:\")\n",
        "histV4 = pd.DataFrame({'V4':V4})\n",
        "histV4.hist()"
      ],
      "execution_count": 8,
      "outputs": [
        {
          "output_type": "stream",
          "text": [
            "Questão 1, item a): Verificando a distribuição e escala de V4\n",
            "Desvio Padrão de V4, a escala:  1.759404065775303\n",
            "Histograma de V4, a distribuição:\n"
          ],
          "name": "stdout"
        },
        {
          "output_type": "execute_result",
          "data": {
            "text/plain": [
              "array([[<matplotlib.axes._subplots.AxesSubplot object at 0x7fbef2533630>]],\n",
              "      dtype=object)"
            ]
          },
          "metadata": {
            "tags": []
          },
          "execution_count": 8
        },
        {
          "output_type": "display_data",
          "data": {
            "image/png": "[encoded data removed]",
            "text/plain": [
              "<Figure size 432x288 with 1 Axes>"
            ]
          },
          "metadata": {
            "tags": [],
            "needs_background": "light"
          }
        }
      ]
    },
    {
      "cell_type": "code",
      "metadata": {
        "id": "OdnS380zwFwD",
        "outputId": "ec1961cc-f397-4c1f-d0df-356e52a09889",
        "colab": {
          "base_uri": "https://localhost:8080/",
          "height": 366
        }
      },
      "source": [
        "print(\"Questão 1, item a): Verificando a distribuição e escala de V5\")\n",
        "print(\"Desvio Padrão de V5, a escala: \",np.std(V5))\n",
        "print(\"Histograma de V5, a distribuição:\")\n",
        "histV5 = pd.DataFrame({'V5':V5})\n",
        "histV5.hist()"
      ],
      "execution_count": 9,
      "outputs": [
        {
          "output_type": "stream",
          "text": [
            "Questão 1, item a): Verificando a distribuição e escala de V5\n",
            "Desvio Padrão de V5, a escala:  12.584883031990758\n",
            "Histograma de V5, a distribuição:\n"
          ],
          "name": "stdout"
        },
        {
          "output_type": "execute_result",
          "data": {
            "text/plain": [
              "array([[<matplotlib.axes._subplots.AxesSubplot object at 0x7fbef240a6a0>]],\n",
              "      dtype=object)"
            ]
          },
          "metadata": {
            "tags": []
          },
          "execution_count": 9
        },
        {
          "output_type": "display_data",
          "data": {
            "image/png": "[encoded data removed]",
            "text/plain": [
              "<Figure size 432x288 with 1 Axes>"
            ]
          },
          "metadata": {
            "tags": [],
            "needs_background": "light"
          }
        }
      ]
    },
    {
      "cell_type": "code",
      "metadata": {
        "id": "peXF9gDbwGOO",
        "outputId": "6a93cf51-5a2a-46a5-8c95-ac24f2c68d8b",
        "colab": {
          "base_uri": "https://localhost:8080/",
          "height": 366
        }
      },
      "source": [
        "print(\"Questão 1, item a): Verificando a distribuição e escala de V6\")\n",
        "print(\"Desvio Padrão de V6, a escala: \",np.std(V6))\n",
        "print(\"Histograma de V6, a distribuição:\")\n",
        "histV6 = pd.DataFrame({'V6':V6})\n",
        "histV6.hist()"
      ],
      "execution_count": 10,
      "outputs": [
        {
          "output_type": "stream",
          "text": [
            "Questão 1, item a): Verificando a distribuição e escala de V6\n",
            "Desvio Padrão de V6, a escala:  0.7596926279021594\n",
            "Histograma de V6, a distribuição:\n"
          ],
          "name": "stdout"
        },
        {
          "output_type": "execute_result",
          "data": {
            "text/plain": [
              "array([[<matplotlib.axes._subplots.AxesSubplot object at 0x7fbef24133c8>]],\n",
              "      dtype=object)"
            ]
          },
          "metadata": {
            "tags": []
          },
          "execution_count": 10
        },
        {
          "output_type": "display_data",
          "data": {
            "image/png": "[encoded data removed]",
            "text/plain": [
              "<Figure size 432x288 with 1 Axes>"
            ]
          },
          "metadata": {
            "tags": [],
            "needs_background": "light"
          }
        }
      ]
    },
    {
      "cell_type": "code",
      "metadata": {
        "id": "CDw6GKCYwbcD",
        "outputId": "9429dc68-0766-489a-cb7a-4d4c712329d0",
        "colab": {
          "base_uri": "https://localhost:8080/",
          "height": 303
        }
      },
      "source": [
        "print('Questão 1, item a): Calculando a correlação entre as variáveis')\n",
        "data = {'V1': V1,\n",
        "        'V2': V2,\n",
        "        'V3': V3,\n",
        "        'V4': V4,\n",
        "        'V5': V5,\n",
        "        'V6': V6\n",
        "        }\n",
        "\n",
        "df = pd.DataFrame(data,columns=['V1','V2','V3','V4','V5','V6'])\n",
        "\n",
        "corrMatrix = df.corr()\n",
        "sn.heatmap(corrMatrix, annot=True)\n",
        "print(\"Matriz de Correlação entre as variáveis: \")\n",
        "plt.show()"
      ],
      "execution_count": 11,
      "outputs": [
        {
          "output_type": "stream",
          "text": [
            "Questão 1, item a): Calculando a correlação entre as variáveis\n",
            "Matriz de Correlação entre as variáveis: \n"
          ],
          "name": "stdout"
        },
        {
          "output_type": "display_data",
          "data": {
            "image/png": "[encoded data removed]",
            "text/plain": [
              "<Figure size 432x288 with 2 Axes>"
            ]
          },
          "metadata": {
            "tags": [],
            "needs_background": "light"
          }
        }
      ]
    },
    {
      "cell_type": "code",
      "metadata": {
        "id": "uIj9Gqzby3KS",
        "outputId": "aee0c69c-db90-4fac-ed27-1be967416be2",
        "colab": {
          "base_uri": "https://localhost:8080/",
          "height": 170
        }
      },
      "source": [
        "print('Questão 1, item b): Correlacionando as variáveis com o \"target\".')\n",
        "data = {'V1': V1,\n",
        "        'V2': V2,\n",
        "        'V3': V3,\n",
        "        'V4': V4,\n",
        "        'V5': V5,\n",
        "        'V6': V6,\n",
        "        'target':classes\n",
        "        }\n",
        "\n",
        "df = pd.DataFrame(data,columns=['V1','V2','V3','V4','V5','V6','target'])\n",
        "df.corrwith(df['target'])"
      ],
      "execution_count": 12,
      "outputs": [
        {
          "output_type": "stream",
          "text": [
            "Questão 1, item b): Correlacionando as variáveis com o \"target\".\n"
          ],
          "name": "stdout"
        },
        {
          "output_type": "execute_result",
          "data": {
            "text/plain": [
              "V1        0.782561\n",
              "V2       -0.426658\n",
              "V3        0.851047\n",
              "V4        0.949035\n",
              "V5        0.939327\n",
              "V6        0.956547\n",
              "target    1.000000\n",
              "dtype: float64"
            ]
          },
          "metadata": {
            "tags": []
          },
          "execution_count": 12
        }
      ]
    },
    {
      "cell_type": "code",
      "metadata": {
        "id": "7dRU7ry6zZ1j",
        "outputId": "1a163f0d-f3d4-4565-ce1b-46d29c572d5d",
        "colab": {
          "base_uri": "https://localhost:8080/",
          "height": 136
        }
      },
      "source": [
        "print('Questão 1, item c): Verificando a normalidade das variáveis.')\n",
        "print(\"Normalidade de V1, quanto maior que zero, menos próxima da distribuição normal: \",sm.stats.stattools.jarque_bera(V1)[0])\n",
        "print(\"Normalidade de V2, quanto maior que zero, menos próxima da distribuição normal: \",sm.stats.stattools.jarque_bera(V2)[0])\n",
        "print(\"Normalidade de V3, quanto maior que zero, menos próxima da distribuição normal: \",sm.stats.stattools.jarque_bera(V3)[0])\n",
        "print(\"Normalidade de V4, quanto maior que zero, menos próxima da distribuição normal: \",sm.stats.stattools.jarque_bera(V4)[0])\n",
        "print(\"Normalidade de V5, quanto maior que zero, menos próxima da distribuição normal: \",sm.stats.stattools.jarque_bera(V5)[0])\n",
        "print(\"Normalidade de V6, quanto maior que zero, menos próxima da distribuição normal: \",sm.stats.stattools.jarque_bera(V6)[0])"
      ],
      "execution_count": 15,
      "outputs": [
        {
          "output_type": "stream",
          "text": [
            "Questão 1, item c): Verificando a normalidade das variáveis.\n",
            "Normalidade de V1, quanto maior que zero, menos próxima da distribuição normal:  4.48587543735093\n",
            "Normalidade de V2, quanto maior que zero, menos próxima da distribuição normal:  2.697424308041611\n",
            "Normalidade de V3, quanto maior que zero, menos próxima da distribuição normal:  5.938320638992927\n",
            "Normalidade de V4, quanto maior que zero, menos próxima da distribuição normal:  14.023339235201124\n",
            "Normalidade de V5, quanto maior que zero, menos próxima da distribuição normal:  7.2875275227906045\n",
            "Normalidade de V6, quanto maior que zero, menos próxima da distribuição normal:  11.416490257467567\n"
          ],
          "name": "stdout"
        }
      ]
    },
    {
      "cell_type": "code",
      "metadata": {
        "id": "SxnO3vSGz79T",
        "outputId": "a012906e-2385-4987-80c0-de18849d8207",
        "colab": {
          "base_uri": "https://localhost:8080/",
          "height": 313
        }
      },
      "source": [
        "print('Questão 1, item d): Procurando outliers em V1')\n",
        "data = {'V1': V1,\n",
        "        'V2': V2,\n",
        "        'V3': V3,\n",
        "        'V4': V4,\n",
        "        'V5': V5,\n",
        "        'V6': V6\n",
        "        }\n",
        "\n",
        "df = pd.DataFrame(data,columns=['V1','V2','V3','V4','V5','V6'])\n",
        "sn.boxplot(data=df,x=df['V1'])"
      ],
      "execution_count": 23,
      "outputs": [
        {
          "output_type": "stream",
          "text": [
            "Questão 1, item d): Procurando outliers em V1\n"
          ],
          "name": "stdout"
        },
        {
          "output_type": "execute_result",
          "data": {
            "text/plain": [
              "<matplotlib.axes._subplots.AxesSubplot at 0x7fbeef76e358>"
            ]
          },
          "metadata": {
            "tags": []
          },
          "execution_count": 23
        },
        {
          "output_type": "display_data",
          "data": {
            "image/png": "[encoded data removed]",
            "text/plain": [
              "<Figure size 432x288 with 1 Axes>"
            ]
          },
          "metadata": {
            "tags": [],
            "needs_background": "light"
          }
        }
      ]
    },
    {
      "cell_type": "code",
      "metadata": {
        "id": "wtUXxGtS2ULu",
        "outputId": "7d300aaa-3faa-4aab-890d-dd6f3403a0dd",
        "colab": {
          "base_uri": "https://localhost:8080/",
          "height": 313
        }
      },
      "source": [
        "print('Questão 1, item d): Procurando outliers em V2')\n",
        "data = {'V1': V1,\n",
        "        'V2': V2,\n",
        "        'V3': V3,\n",
        "        'V4': V4,\n",
        "        'V5': V5,\n",
        "        'V6': V6\n",
        "        }\n",
        "\n",
        "df = pd.DataFrame(data,columns=['V1','V2','V3','V4','V5','V6'])\n",
        "sn.boxplot(data=df,x=df['V2'])"
      ],
      "execution_count": 24,
      "outputs": [
        {
          "output_type": "stream",
          "text": [
            "Questão 1, item d): Procurando outliers em V2\n"
          ],
          "name": "stdout"
        },
        {
          "output_type": "execute_result",
          "data": {
            "text/plain": [
              "<matplotlib.axes._subplots.AxesSubplot at 0x7fbeef6cfd68>"
            ]
          },
          "metadata": {
            "tags": []
          },
          "execution_count": 24
        },
        {
          "output_type": "display_data",
          "data": {
            "image/png": "[encoded data removed]",
            "text/plain": [
              "<Figure size 432x288 with 1 Axes>"
            ]
          },
          "metadata": {
            "tags": [],
            "needs_background": "light"
          }
        }
      ]
    },
    {
      "cell_type": "code",
      "metadata": {
        "id": "hro6T4-yq7Yn",
        "outputId": "3e92ff8d-b358-4512-b6dd-093a8c990140",
        "colab": {
          "base_uri": "https://localhost:8080/",
          "height": 34
        }
      },
      "source": [
        "print('Podemos ver acima, no boxplot de V2, que há quatro outliers.')"
      ],
      "execution_count": 28,
      "outputs": [
        {
          "output_type": "stream",
          "text": [
            "Podemos ver acima, no boxplot de V2, que há quatro outliers.\n"
          ],
          "name": "stdout"
        }
      ]
    },
    {
      "cell_type": "code",
      "metadata": {
        "id": "X8xZwm9m2UmZ",
        "outputId": "e72c966e-c19c-4788-941f-e12e7b6d0af8",
        "colab": {
          "base_uri": "https://localhost:8080/",
          "height": 313
        }
      },
      "source": [
        "print('Questão 1, item d): Procurando outliers em V3')\n",
        "data = {'V1': V1,\n",
        "        'V2': V2,\n",
        "        'V3': V3,\n",
        "        'V4': V4,\n",
        "        'V5': V5,\n",
        "        'V6': V6\n",
        "        }\n",
        "\n",
        "df = pd.DataFrame(data,columns=['V1','V2','V3','V4','V5','V6'])\n",
        "sn.boxplot(data=df,x=df['V3'])"
      ],
      "execution_count": 25,
      "outputs": [
        {
          "output_type": "stream",
          "text": [
            "Questão 1, item d): Procurando outliers em V3\n"
          ],
          "name": "stdout"
        },
        {
          "output_type": "execute_result",
          "data": {
            "text/plain": [
              "<matplotlib.axes._subplots.AxesSubplot at 0x7fbeef6af4e0>"
            ]
          },
          "metadata": {
            "tags": []
          },
          "execution_count": 25
        },
        {
          "output_type": "display_data",
          "data": {
            "image/png": "[encoded data removed]",
            "text/plain": [
              "<Figure size 432x288 with 1 Axes>"
            ]
          },
          "metadata": {
            "tags": [],
            "needs_background": "light"
          }
        }
      ]
    },
    {
      "cell_type": "code",
      "metadata": {
        "id": "cKJrfHsi2VM9",
        "outputId": "144ce77b-48fd-46ec-98f6-9602bc532ec3",
        "colab": {
          "base_uri": "https://localhost:8080/",
          "height": 313
        }
      },
      "source": [
        "print('Questão 1, item d): Procurando outliers em V4')\n",
        "data = {'V1': V1,\n",
        "        'V2': V2,\n",
        "        'V3': V3,\n",
        "        'V4': V4,\n",
        "        'V5': V5,\n",
        "        'V6': V6\n",
        "        }\n",
        "\n",
        "df = pd.DataFrame(data,columns=['V1','V2','V3','V4','V5','V6'])\n",
        "sn.boxplot(data=df,x=df['V4'])"
      ],
      "execution_count": 26,
      "outputs": [
        {
          "output_type": "stream",
          "text": [
            "Questão 1, item d): Procurando outliers em V4\n"
          ],
          "name": "stdout"
        },
        {
          "output_type": "execute_result",
          "data": {
            "text/plain": [
              "<matplotlib.axes._subplots.AxesSubplot at 0x7fbeef823080>"
            ]
          },
          "metadata": {
            "tags": []
          },
          "execution_count": 26
        },
        {
          "output_type": "display_data",
          "data": {
            "image/png": "[encoded data removed]",
            "text/plain": [
              "<Figure size 432x288 with 1 Axes>"
            ]
          },
          "metadata": {
            "tags": [],
            "needs_background": "light"
          }
        }
      ]
    },
    {
      "cell_type": "code",
      "metadata": {
        "id": "0_CeMx3m2Uay",
        "outputId": "fc602847-fc8e-4ba5-d639-ec6a927a9a7a",
        "colab": {
          "base_uri": "https://localhost:8080/",
          "height": 313
        }
      },
      "source": [
        "print('Questão 1, item d): Procurando outliers em V5')\n",
        "data = {'V1': V1,\n",
        "        'V2': V2,\n",
        "        'V3': V3,\n",
        "        'V4': V4,\n",
        "        'V5': V5,\n",
        "        'V6': V6\n",
        "        }\n",
        "\n",
        "df = pd.DataFrame(data,columns=['V1','V2','V3','V4','V5','V6'])\n",
        "sn.boxplot(data=df,x=df['V5'])"
      ],
      "execution_count": 27,
      "outputs": [
        {
          "output_type": "stream",
          "text": [
            "Questão 1, item d): Procurando outliers em V5\n"
          ],
          "name": "stdout"
        },
        {
          "output_type": "execute_result",
          "data": {
            "text/plain": [
              "<matplotlib.axes._subplots.AxesSubplot at 0x7fbeef53d160>"
            ]
          },
          "metadata": {
            "tags": []
          },
          "execution_count": 27
        },
        {
          "output_type": "display_data",
          "data": {
            "image/png": "[encoded data removed]",
            "text/plain": [
              "<Figure size 432x288 with 1 Axes>"
            ]
          },
          "metadata": {
            "tags": [],
            "needs_background": "light"
          }
        }
      ]
    },
    {
      "cell_type": "code",
      "metadata": {
        "id": "jOPSFZaU2TxZ",
        "outputId": "4f638103-8c8c-4f76-9498-1c9c9c1ae938",
        "colab": {
          "base_uri": "https://localhost:8080/",
          "height": 296
        }
      },
      "source": [
        "print('Questão 1, item d): Procurando outliers em V6')\n",
        "data = {'V1': V1,\n",
        "        'V2': V2,\n",
        "        'V3': V3,\n",
        "        'V4': V4,\n",
        "        'V5': V5,\n",
        "        'V6': V6\n",
        "        }\n",
        "\n",
        "df = pd.DataFrame(data,columns=['V1','V2','V3','V4','V5','V6'])\n",
        "sn.boxplot(data=df,x=df['V6'])"
      ],
      "execution_count": 22,
      "outputs": [
        {
          "output_type": "execute_result",
          "data": {
            "text/plain": [
              "<matplotlib.axes._subplots.AxesSubplot at 0x7fbeef85a0f0>"
            ]
          },
          "metadata": {
            "tags": []
          },
          "execution_count": 22
        },
        {
          "output_type": "display_data",
          "data": {
            "image/png": "[encoded data removed]",
            "text/plain": [
              "<Figure size 432x288 with 1 Axes>"
            ]
          },
          "metadata": {
            "tags": [],
            "needs_background": "light"
          }
        }
      ]
    },
    {
      "cell_type": "code",
      "metadata": {
        "id": "8kQyNVyaraIa",
        "outputId": "395babe5-71cb-465f-bbfd-324cd7b7af07",
        "colab": {
          "base_uri": "https://localhost:8080/",
          "height": 34
        }
      },
      "source": [
        "print('V2 foi o único conjunto de dados a ter outliers.')"
      ],
      "execution_count": 29,
      "outputs": [
        {
          "output_type": "stream",
          "text": [
            "V2 foi o único conjunto de dados a ter outliers.\n"
          ],
          "name": "stdout"
        }
      ]
    },
    {
      "cell_type": "code",
      "metadata": {
        "id": "6t-0T5Cy3quk",
        "outputId": "b54f00b1-291e-4aec-c0b0-4b219099ab9f",
        "colab": {
          "base_uri": "https://localhost:8080/",
          "height": 34
        }
      },
      "source": [
        "print('Questão 2, item a): Normalizando o conjunto de dados.')\n",
        "V1N = normalize(V1)\n",
        "V2N = normalize(V2)\n",
        "V3N = normalize(V3)\n",
        "V4N = normalize(V4)\n",
        "V5N = normalize(V5)\n",
        "V6N = normalize(V6)"
      ],
      "execution_count": 59,
      "outputs": [
        {
          "output_type": "stream",
          "text": [
            "Questão 2, item a): Normalizando o conjunto de dados.\n"
          ],
          "name": "stdout"
        }
      ]
    },
    {
      "cell_type": "code",
      "metadata": {
        "id": "lfN0PSc-5M01",
        "outputId": "a04613b2-854e-434d-98db-a8ab02f1e4e0",
        "colab": {
          "base_uri": "https://localhost:8080/",
          "height": 272
        }
      },
      "source": [
        "print('Questão 2, item b): Autovalores e Autovetores do conjunto.')\n",
        "M = ([V1N,V3N,V3N,V4N,V5N,V6N])\n",
        "#matriz de covariâncias\n",
        "dCovariancia = np.cov(M)\n",
        "[dAutovalor, dAutovetor] = np.linalg.eig(dCovariancia)\n",
        "print(\"Matriz de Autovalores\",dAutovalor)\n",
        "print(\"Matriz de Autovetores\",dAutovetor)"
      ],
      "execution_count": 60,
      "outputs": [
        {
          "output_type": "stream",
          "text": [
            "Questão 2, item b): Autovalores e Autovetores do conjunto.\n",
            "Matriz de Autovalores [4.03790178e-01 1.93789034e-02 4.90363929e-03 3.43940468e-03\n",
            " 7.07495285e-04 5.53794650e-19]\n",
            "Matriz de Autovetores [[-3.35530762e-01  4.81599708e-01 -7.66491140e-01  9.69183573e-02\n",
            "   2.42030974e-01  1.85285403e-15]\n",
            " [-3.64956947e-01  4.01039958e-01  3.86985120e-01  1.82427177e-01\n",
            "  -1.51447089e-01 -7.07106781e-01]\n",
            " [-3.64956947e-01  4.01039958e-01  3.86985120e-01  1.82427177e-01\n",
            "  -1.51447089e-01  7.07106781e-01]\n",
            " [-4.65275178e-01 -2.25989179e-01  2.50462372e-01 -3.51979860e-01\n",
            "   7.38800838e-01  1.04202299e-14]\n",
            " [-4.19705365e-01 -1.31934038e-01 -1.64420232e-01 -6.74096726e-01\n",
            "  -5.70088069e-01 -7.82513253e-15]\n",
            " [-4.77910427e-01 -6.14750295e-01 -1.52351416e-01  5.88006177e-01\n",
            "  -1.57230662e-01 -1.86969899e-15]]\n"
          ],
          "name": "stdout"
        }
      ]
    },
    {
      "cell_type": "code",
      "metadata": {
        "id": "mAsOPACs8H2i",
        "outputId": "9114ca62-a0c0-42bc-92e7-512180551688",
        "colab": {
          "base_uri": "https://localhost:8080/",
          "height": 34
        }
      },
      "source": [
        "print('Questão 2, item c): Descorrelacionando o conjunto de dados.')\n",
        "#descorrelacionando a matriz de covariância\n",
        "dDescorrelacionando = np.matmul(dAutovetor, M)\n",
        "novoM = np.matmul(dCovariancia, dDescorrelacionando)"
      ],
      "execution_count": 79,
      "outputs": [
        {
          "output_type": "stream",
          "text": [
            "Questão 2, item c): Descorrelacionando o conjunto de dados.\n"
          ],
          "name": "stdout"
        }
      ]
    },
    {
      "cell_type": "code",
      "metadata": {
        "id": "FsD5bUyh_w0D",
        "outputId": "7d3c18dd-4c04-4427-b75d-41e2635fa667",
        "colab": {
          "base_uri": "https://localhost:8080/",
          "height": 282
        }
      },
      "source": [
        "print(\"Questão 2, item d) averiguando o grau de informação de cada variável\")\n",
        "sn.heatmap(np.cov(novoM), annot=True)\n",
        "plt.show()\n",
        "print('Como podemos ver no gráfico e no valor do VIF de V4, V5 e V6, as três possuem')\n",
        "print('alto índice de correlação. Dimensões com maior correlação podem jogar para baixo')\n",
        "print('o desempenho do modelo. Além disso, não é bom ter múltiplas variáveis ​​de informações ou variação similares.')\n",
        "print('Podemos então remover as três variáveis de nosso problema.')"
      ],
      "execution_count": 87,
      "outputs": [
        {
          "output_type": "stream",
          "text": [
            "Questão 2, item d) averiguando o grau de informação de cada variável\n"
          ],
          "name": "stdout"
        },
        {
          "output_type": "display_data",
          "data": {
            "image/png": "[encoded data removed]",
            "text/plain": [
              "<Figure size 432x288 with 2 Axes>"
            ]
          },
          "metadata": {
            "tags": [],
            "needs_background": "light"
          }
        }
      ]
    },
    {
      "cell_type": "code",
      "metadata": {
        "id": "BiGCOB03mQ_H",
        "outputId": "5bbde22c-0b1c-4e8b-aa57-e7cdf21737ff",
        "colab": {
          "base_uri": "https://localhost:8080/",
          "height": 282
        }
      },
      "source": [
        "print('Questão 2, item e): Transformando o conjunto original ao remover as três variáveis mais correlacionadas.')\n",
        "M_reduzido = [novoM[0],novoM[1], novoM[2]]\n",
        "sn.heatmap(np.cov(M_reduzido), annot=True)\n",
        "plt.show()"
      ],
      "execution_count": 91,
      "outputs": [
        {
          "output_type": "stream",
          "text": [
            "Questão 2, item e): Transformando o conjunto original ao remover as três variáveis mais correlacionadas.\n"
          ],
          "name": "stdout"
        },
        {
          "output_type": "display_data",
          "data": {
            "image/png": "[encoded data removed]",
            "text/plain": [
              "<Figure size 432x288 with 2 Axes>"
            ]
          },
          "metadata": {
            "tags": [],
            "needs_background": "light"
          }
        }
      ]
    },
    {
      "cell_type": "code",
      "metadata": {
        "id": "kSHcfaKCFRyL",
        "outputId": "07d014b6-8773-4bbd-cc60-0858c88ae733",
        "colab": {
          "base_uri": "https://localhost:8080/",
          "height": 282
        }
      },
      "source": [
        "print('Questão 2, item f): Reduzindo o dataset com PCA')\n",
        "pca = PCA(n_components=3)\n",
        "novoIM = novoM.transpose()\n",
        "Mpca = pca.fit_transform(novoIM)\n",
        "Mpca = Mpca.transpose()\n",
        "sn.heatmap(np.cov(Mpca), annot=True)\n",
        "plt.show()\n",
        "print('A diferença entre os gráficos de covariância deve-se ao método de redução:')\n",
        "print('a retirada direta de variáveis é muito menos precisa que a avaliação do')\n",
        "print('algoritmo sobre o conjunto de dados fornecido.')"
      ],
      "execution_count": 98,
      "outputs": [
        {
          "output_type": "stream",
          "text": [
            "Questão 2, item f)\n"
          ],
          "name": "stdout"
        },
        {
          "output_type": "display_data",
          "data": {
            "image/png": "[encoded data removed]",
            "text/plain": [
              "<Figure size 432x288 with 2 Axes>"
            ]
          },
          "metadata": {
            "tags": [],
            "needs_background": "light"
          }
        }
      ]
    },
    {
      "cell_type": "code",
      "metadata": {
        "id": "r29SQSnvvhKE",
        "outputId": "c22ef9a7-4c1d-49fd-df89-5eaa2b3973c2",
        "colab": {
          "base_uri": "https://localhost:8080/",
          "height": 299
        }
      },
      "source": [
        "print('Questão 3, item a)')\n",
        "#esta função calcula a variável normalizada através da fómula de max/min\n",
        "V1N = normalize(V1)\n",
        "V2N = normalize(V2)\n",
        "V3N = normalize(V3)\n",
        "V4N = normalize(V4)\n",
        "V5N = normalize(V5)\n",
        "V6N = normalize(V6)\n",
        "\n",
        "M = ([V1N,V3N,V3N,V4N,V5N,V6N])\n",
        "print(\"Matriz de Covariância entre as variáveis: \")\n",
        "sn.heatmap(np.cov(M), annot=True)\n",
        "plt.show()\n",
        "print('Como V1 e V2 possuem a menor correlação entre as variáveis, podemos afirmar')\n",
        "print('que são mais informativas. Logo serão as escolhidas.')"
      ],
      "execution_count": 42,
      "outputs": [
        {
          "output_type": "stream",
          "text": [
            "Questão 3, item a)\n",
            "Matriz de Covariância entre as variáveis: \n"
          ],
          "name": "stdout"
        },
        {
          "output_type": "display_data",
          "data": {
            "image/png": "[encoded data removed]",
            "text/plain": [
              "<Figure size 432x288 with 2 Axes>"
            ]
          },
          "metadata": {
            "tags": [],
            "needs_background": "light"
          }
        }
      ]
    },
    {
      "cell_type": "code",
      "metadata": {
        "id": "KZeo_Bu-tcEM",
        "outputId": "7b46ac1e-eebe-483e-ac49-c39739f936ae",
        "colab": {
          "base_uri": "https://localhost:8080/",
          "height": 319
        }
      },
      "source": [
        "print('Questão 3, item b): verificando a posição das 3 classes.')\n",
        "\n",
        "sn.set_theme(style=\"ticks\", color_codes=True)\n",
        "data = {'V1': V1N,\n",
        "        'V2': V2N,\n",
        "        'target' : classes\n",
        "        }\n",
        "\n",
        "df = pd.DataFrame(data,columns=['V1','V2','target'])\n",
        "sn.stripplot(x=\"V1\", y=\"V2\", hue=\"target\", data=df)"
      ],
      "execution_count": 104,
      "outputs": [
        {
          "output_type": "stream",
          "text": [
            "Questão 3, item b): verificando a posição das 3 classes.\n"
          ],
          "name": "stdout"
        },
        {
          "output_type": "execute_result",
          "data": {
            "text/plain": [
              "<matplotlib.axes._subplots.AxesSubplot at 0x7fbed5a940b8>"
            ]
          },
          "metadata": {
            "tags": []
          },
          "execution_count": 104
        },
        {
          "output_type": "display_data",
          "data": {
            "image/png": "[encoded data removed]",
            "text/plain": [
              "<Figure size 432x288 with 1 Axes>"
            ]
          },
          "metadata": {
            "tags": []
          }
        }
      ]
    },
    {
      "cell_type": "code",
      "metadata": {
        "id": "wvKtKifMwFlI",
        "outputId": "96b0e021-0ce8-405e-d57f-be9d034d1c29",
        "colab": {
          "base_uri": "https://localhost:8080/",
          "height": 319
        }
      },
      "source": [
        "print('Questão 3, item c): verificando a posição das 3 classes no conjunto descorrelacionado.')\n",
        "sn.set_theme(style=\"ticks\", color_codes=True)\n",
        "data = {'V1': novoM[0],\n",
        "        'V2': novoM[1],\n",
        "        'target' : classes\n",
        "        }\n",
        "\n",
        "df = pd.DataFrame(data,columns=['V1','V2','target'])\n",
        "sn.stripplot(x=\"V1\", y=\"V2\", hue=\"target\", data=df) #a execução dessa linha de código demora muito!!!!"
      ],
      "execution_count": 106,
      "outputs": [
        {
          "output_type": "stream",
          "text": [
            "Questão 3, item c): verificando a posição das 3 classes no conjunto descorrelacionado.\n"
          ],
          "name": "stdout"
        },
        {
          "output_type": "execute_result",
          "data": {
            "text/plain": [
              "<matplotlib.axes._subplots.AxesSubplot at 0x7fbed4cdb198>"
            ]
          },
          "metadata": {
            "tags": []
          },
          "execution_count": 106
        },
        {
          "output_type": "display_data",
          "data": {
            "image/png": "[encoded data removed]",
            "text/plain": [
              "<Figure size 432x288 with 1 Axes>"
            ]
          },
          "metadata": {
            "tags": []
          }
        }
      ]
    },
    {
      "cell_type": "code",
      "metadata": {
        "id": "Z3GfMB-AyFgA",
        "outputId": "a508edc2-74cf-4a5e-d129-5e03648801ac",
        "colab": {
          "base_uri": "https://localhost:8080/",
          "height": 102
        }
      },
      "source": [
        "print('Questão 3, item d): vendo a distribuição muito mais próxima à distribuição')\n",
        "print('normal, é fácil afirmar que o modelo computacional descorrelacionado terá')\n",
        "print('muito maiores chances de sucesso, graças à clareza da informação que provide.')\n",
        "print('Em comparação, o conjunto de dados não processado parece apenas um conjunto')\n",
        "print('de valores aleatórios.')"
      ],
      "execution_count": 107,
      "outputs": [
        {
          "output_type": "stream",
          "text": [
            "Questão 3, item d): vendo a distribuição muito mais próxima à distribuição\n",
            "normal, é fácil afirmar que o modelo computacional descorrelacionado terá\n",
            "muito maiores chances de sucesso, graças à clareza da informação que provide.\n",
            "Em comparação, o conjunto de dados não processado parece apenas um conjunto\n",
            "de valores aleatórios.\n"
          ],
          "name": "stdout"
        }
      ]
    }
  ]
}